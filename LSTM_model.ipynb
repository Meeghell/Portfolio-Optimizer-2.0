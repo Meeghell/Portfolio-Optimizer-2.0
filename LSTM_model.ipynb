{
  "cells": [
    {
      "cell_type": "code",
      "execution_count": 8,
      "metadata": {
        "colab": {
          "base_uri": "https://localhost:8080/"
        },
        "id": "QQHBBKqzs1lP",
        "outputId": "022c7efa-1e5a-4d34-e447-83c45b97cd9b"
      },
      "outputs": [
        {
          "name": "stdout",
          "output_type": "stream",
          "text": [
            "Requirement already satisfied: yfinance in c:\\users\\16023\\anaconda3\\envs\\algotrading\\lib\\site-packages (0.2.40)\n",
            "Requirement already satisfied: tensorflow in c:\\users\\16023\\anaconda3\\envs\\algotrading\\lib\\site-packages (2.16.2)\n",
            "Requirement already satisfied: keras-tuner in c:\\users\\16023\\anaconda3\\envs\\algotrading\\lib\\site-packages (1.4.7)\n",
            "Requirement already satisfied: PyPortfolioOpt in c:\\users\\16023\\anaconda3\\envs\\algotrading\\lib\\site-packages (1.5.5)\n",
            "Requirement already satisfied: scikit-learn in c:\\users\\16023\\anaconda3\\envs\\algotrading\\lib\\site-packages (1.5.0)\n",
            "Requirement already satisfied: matplotlib in c:\\users\\16023\\anaconda3\\envs\\algotrading\\lib\\site-packages (3.8.4)\n",
            "Requirement already satisfied: seaborn in c:\\users\\16023\\anaconda3\\envs\\algotrading\\lib\\site-packages (0.13.2)\n",
            "Requirement already satisfied: pandas>=1.3.0 in c:\\users\\16023\\anaconda3\\envs\\algotrading\\lib\\site-packages (from yfinance) (2.2.2)\n",
            "Requirement already satisfied: numpy>=1.16.5 in c:\\users\\16023\\anaconda3\\envs\\algotrading\\lib\\site-packages (from yfinance) (1.26.4)\n",
            "Requirement already satisfied: requests>=2.31 in c:\\users\\16023\\anaconda3\\envs\\algotrading\\lib\\site-packages (from yfinance) (2.32.3)\n",
            "Requirement already satisfied: multitasking>=0.0.7 in c:\\users\\16023\\anaconda3\\envs\\algotrading\\lib\\site-packages (from yfinance) (0.0.11)\n",
            "Requirement already satisfied: lxml>=4.9.1 in c:\\users\\16023\\anaconda3\\envs\\algotrading\\lib\\site-packages (from yfinance) (5.2.2)\n",
            "Requirement already satisfied: platformdirs>=2.0.0 in c:\\users\\16023\\anaconda3\\envs\\algotrading\\lib\\site-packages (from yfinance) (4.2.0)\n",
            "Requirement already satisfied: pytz>=2022.5 in c:\\users\\16023\\anaconda3\\envs\\algotrading\\lib\\site-packages (from yfinance) (2024.1)\n",
            "Requirement already satisfied: frozendict>=2.3.4 in c:\\users\\16023\\anaconda3\\envs\\algotrading\\lib\\site-packages (from yfinance) (2.4.4)\n",
            "Requirement already satisfied: peewee>=3.16.2 in c:\\users\\16023\\anaconda3\\envs\\algotrading\\lib\\site-packages (from yfinance) (3.17.5)\n",
            "Requirement already satisfied: beautifulsoup4>=4.11.1 in c:\\users\\16023\\anaconda3\\envs\\algotrading\\lib\\site-packages (from yfinance) (4.12.3)\n",
            "Requirement already satisfied: html5lib>=1.1 in c:\\users\\16023\\anaconda3\\envs\\algotrading\\lib\\site-packages (from yfinance) (1.1)\n",
            "Requirement already satisfied: tensorflow-intel==2.16.2 in c:\\users\\16023\\anaconda3\\envs\\algotrading\\lib\\site-packages (from tensorflow) (2.16.2)\n",
            "Requirement already satisfied: absl-py>=1.0.0 in c:\\users\\16023\\anaconda3\\envs\\algotrading\\lib\\site-packages (from tensorflow-intel==2.16.2->tensorflow) (2.1.0)\n",
            "Requirement already satisfied: astunparse>=1.6.0 in c:\\users\\16023\\anaconda3\\envs\\algotrading\\lib\\site-packages (from tensorflow-intel==2.16.2->tensorflow) (1.6.3)\n",
            "Requirement already satisfied: flatbuffers>=23.5.26 in c:\\users\\16023\\anaconda3\\envs\\algotrading\\lib\\site-packages (from tensorflow-intel==2.16.2->tensorflow) (24.3.25)\n",
            "Requirement already satisfied: gast!=0.5.0,!=0.5.1,!=0.5.2,>=0.2.1 in c:\\users\\16023\\anaconda3\\envs\\algotrading\\lib\\site-packages (from tensorflow-intel==2.16.2->tensorflow) (0.6.0)\n",
            "Requirement already satisfied: google-pasta>=0.1.1 in c:\\users\\16023\\anaconda3\\envs\\algotrading\\lib\\site-packages (from tensorflow-intel==2.16.2->tensorflow) (0.2.0)\n",
            "Requirement already satisfied: h5py>=3.10.0 in c:\\users\\16023\\anaconda3\\envs\\algotrading\\lib\\site-packages (from tensorflow-intel==2.16.2->tensorflow) (3.11.0)\n",
            "Requirement already satisfied: libclang>=13.0.0 in c:\\users\\16023\\anaconda3\\envs\\algotrading\\lib\\site-packages (from tensorflow-intel==2.16.2->tensorflow) (18.1.1)\n",
            "Requirement already satisfied: ml-dtypes~=0.3.1 in c:\\users\\16023\\anaconda3\\envs\\algotrading\\lib\\site-packages (from tensorflow-intel==2.16.2->tensorflow) (0.3.2)\n",
            "Requirement already satisfied: opt-einsum>=2.3.2 in c:\\users\\16023\\anaconda3\\envs\\algotrading\\lib\\site-packages (from tensorflow-intel==2.16.2->tensorflow) (3.3.0)\n",
            "Requirement already satisfied: packaging in c:\\users\\16023\\anaconda3\\envs\\algotrading\\lib\\site-packages (from tensorflow-intel==2.16.2->tensorflow) (24.0)\n",
            "Requirement already satisfied: protobuf!=4.21.0,!=4.21.1,!=4.21.2,!=4.21.3,!=4.21.4,!=4.21.5,<5.0.0dev,>=3.20.3 in c:\\users\\16023\\anaconda3\\envs\\algotrading\\lib\\site-packages (from tensorflow-intel==2.16.2->tensorflow) (4.25.3)\n",
            "Requirement already satisfied: setuptools in c:\\users\\16023\\anaconda3\\envs\\algotrading\\lib\\site-packages (from tensorflow-intel==2.16.2->tensorflow) (69.5.1)\n",
            "Requirement already satisfied: six>=1.12.0 in c:\\users\\16023\\anaconda3\\envs\\algotrading\\lib\\site-packages (from tensorflow-intel==2.16.2->tensorflow) (1.16.0)\n",
            "Requirement already satisfied: termcolor>=1.1.0 in c:\\users\\16023\\anaconda3\\envs\\algotrading\\lib\\site-packages (from tensorflow-intel==2.16.2->tensorflow) (2.4.0)\n",
            "Requirement already satisfied: typing-extensions>=3.6.6 in c:\\users\\16023\\anaconda3\\envs\\algotrading\\lib\\site-packages (from tensorflow-intel==2.16.2->tensorflow) (4.10.0)\n",
            "Requirement already satisfied: wrapt>=1.11.0 in c:\\users\\16023\\anaconda3\\envs\\algotrading\\lib\\site-packages (from tensorflow-intel==2.16.2->tensorflow) (1.16.0)\n",
            "Requirement already satisfied: grpcio<2.0,>=1.24.3 in c:\\users\\16023\\anaconda3\\envs\\algotrading\\lib\\site-packages (from tensorflow-intel==2.16.2->tensorflow) (1.64.1)\n",
            "Requirement already satisfied: tensorboard<2.17,>=2.16 in c:\\users\\16023\\anaconda3\\envs\\algotrading\\lib\\site-packages (from tensorflow-intel==2.16.2->tensorflow) (2.16.2)\n",
            "Requirement already satisfied: keras>=3.0.0 in c:\\users\\16023\\anaconda3\\envs\\algotrading\\lib\\site-packages (from tensorflow-intel==2.16.2->tensorflow) (3.4.1)\n",
            "Requirement already satisfied: tensorflow-io-gcs-filesystem>=0.23.1 in c:\\users\\16023\\anaconda3\\envs\\algotrading\\lib\\site-packages (from tensorflow-intel==2.16.2->tensorflow) (0.31.0)\n",
            "Requirement already satisfied: kt-legacy in c:\\users\\16023\\anaconda3\\envs\\algotrading\\lib\\site-packages (from keras-tuner) (1.0.5)\n",
            "Requirement already satisfied: cvxpy<2.0.0,>=1.1.19 in c:\\users\\16023\\anaconda3\\envs\\algotrading\\lib\\site-packages (from PyPortfolioOpt) (1.5.3)\n",
            "Requirement already satisfied: scipy<2.0,>=1.3 in c:\\users\\16023\\anaconda3\\envs\\algotrading\\lib\\site-packages (from PyPortfolioOpt) (1.14.0)\n",
            "Requirement already satisfied: joblib>=1.2.0 in c:\\users\\16023\\anaconda3\\envs\\algotrading\\lib\\site-packages (from scikit-learn) (1.4.2)\n",
            "Requirement already satisfied: threadpoolctl>=3.1.0 in c:\\users\\16023\\anaconda3\\envs\\algotrading\\lib\\site-packages (from scikit-learn) (3.5.0)\n",
            "Requirement already satisfied: contourpy>=1.0.1 in c:\\users\\16023\\anaconda3\\envs\\algotrading\\lib\\site-packages (from matplotlib) (1.2.1)\n",
            "Requirement already satisfied: cycler>=0.10 in c:\\users\\16023\\anaconda3\\envs\\algotrading\\lib\\site-packages (from matplotlib) (0.11.0)\n",
            "Requirement already satisfied: fonttools>=4.22.0 in c:\\users\\16023\\anaconda3\\envs\\algotrading\\lib\\site-packages (from matplotlib) (4.51.0)\n",
            "Requirement already satisfied: kiwisolver>=1.3.1 in c:\\users\\16023\\anaconda3\\envs\\algotrading\\lib\\site-packages (from matplotlib) (1.4.4)\n",
            "Requirement already satisfied: pillow>=8 in c:\\users\\16023\\anaconda3\\envs\\algotrading\\lib\\site-packages (from matplotlib) (10.3.0)\n",
            "Requirement already satisfied: pyparsing>=2.3.1 in c:\\users\\16023\\anaconda3\\envs\\algotrading\\lib\\site-packages (from matplotlib) (3.1.2)\n",
            "Requirement already satisfied: python-dateutil>=2.7 in c:\\users\\16023\\anaconda3\\envs\\algotrading\\lib\\site-packages (from matplotlib) (2.8.2)\n",
            "Requirement already satisfied: soupsieve>1.2 in c:\\users\\16023\\anaconda3\\envs\\algotrading\\lib\\site-packages (from beautifulsoup4>=4.11.1->yfinance) (2.5)\n",
            "Requirement already satisfied: osqp>=0.6.2 in c:\\users\\16023\\anaconda3\\envs\\algotrading\\lib\\site-packages (from cvxpy<2.0.0,>=1.1.19->PyPortfolioOpt) (0.6.7.post1)\n",
            "Requirement already satisfied: ecos>=2 in c:\\users\\16023\\anaconda3\\envs\\algotrading\\lib\\site-packages (from cvxpy<2.0.0,>=1.1.19->PyPortfolioOpt) (2.0.14)\n",
            "Requirement already satisfied: clarabel>=0.5.0 in c:\\users\\16023\\anaconda3\\envs\\algotrading\\lib\\site-packages (from cvxpy<2.0.0,>=1.1.19->PyPortfolioOpt) (0.9.0)\n",
            "Requirement already satisfied: scs>=3.2.4.post1 in c:\\users\\16023\\anaconda3\\envs\\algotrading\\lib\\site-packages (from cvxpy<2.0.0,>=1.1.19->PyPortfolioOpt) (3.2.6)\n",
            "Requirement already satisfied: webencodings in c:\\users\\16023\\anaconda3\\envs\\algotrading\\lib\\site-packages (from html5lib>=1.1->yfinance) (0.5.1)\n",
            "Requirement already satisfied: rich in c:\\users\\16023\\anaconda3\\envs\\algotrading\\lib\\site-packages (from keras>=3.0.0->tensorflow-intel==2.16.2->tensorflow) (13.7.1)\n",
            "Requirement already satisfied: namex in c:\\users\\16023\\anaconda3\\envs\\algotrading\\lib\\site-packages (from keras>=3.0.0->tensorflow-intel==2.16.2->tensorflow) (0.0.8)\n",
            "Requirement already satisfied: optree in c:\\users\\16023\\anaconda3\\envs\\algotrading\\lib\\site-packages (from keras>=3.0.0->tensorflow-intel==2.16.2->tensorflow) (0.11.0)\n",
            "Requirement already satisfied: tzdata>=2022.7 in c:\\users\\16023\\anaconda3\\envs\\algotrading\\lib\\site-packages (from pandas>=1.3.0->yfinance) (2024.1)\n",
            "Requirement already satisfied: charset-normalizer<4,>=2 in c:\\users\\16023\\anaconda3\\envs\\algotrading\\lib\\site-packages (from requests>=2.31->yfinance) (3.3.2)\n",
            "Requirement already satisfied: idna<4,>=2.5 in c:\\users\\16023\\anaconda3\\envs\\algotrading\\lib\\site-packages (from requests>=2.31->yfinance) (3.7)\n",
            "Requirement already satisfied: urllib3<3,>=1.21.1 in c:\\users\\16023\\anaconda3\\envs\\algotrading\\lib\\site-packages (from requests>=2.31->yfinance) (2.2.2)\n",
            "Requirement already satisfied: certifi>=2017.4.17 in c:\\users\\16023\\anaconda3\\envs\\algotrading\\lib\\site-packages (from requests>=2.31->yfinance) (2024.6.2)\n",
            "Requirement already satisfied: wheel<1.0,>=0.23.0 in c:\\users\\16023\\anaconda3\\envs\\algotrading\\lib\\site-packages (from astunparse>=1.6.0->tensorflow-intel==2.16.2->tensorflow) (0.43.0)\n",
            "Requirement already satisfied: qdldl in c:\\users\\16023\\anaconda3\\envs\\algotrading\\lib\\site-packages (from osqp>=0.6.2->cvxpy<2.0.0,>=1.1.19->PyPortfolioOpt) (0.1.7.post4)\n",
            "Requirement already satisfied: markdown>=2.6.8 in c:\\users\\16023\\anaconda3\\envs\\algotrading\\lib\\site-packages (from tensorboard<2.17,>=2.16->tensorflow-intel==2.16.2->tensorflow) (3.6)\n",
            "Requirement already satisfied: tensorboard-data-server<0.8.0,>=0.7.0 in c:\\users\\16023\\anaconda3\\envs\\algotrading\\lib\\site-packages (from tensorboard<2.17,>=2.16->tensorflow-intel==2.16.2->tensorflow) (0.7.2)\n",
            "Requirement already satisfied: werkzeug>=1.0.1 in c:\\users\\16023\\anaconda3\\envs\\algotrading\\lib\\site-packages (from tensorboard<2.17,>=2.16->tensorflow-intel==2.16.2->tensorflow) (3.0.3)\n",
            "Requirement already satisfied: markdown-it-py>=2.2.0 in c:\\users\\16023\\anaconda3\\envs\\algotrading\\lib\\site-packages (from rich->keras>=3.0.0->tensorflow-intel==2.16.2->tensorflow) (3.0.0)\n",
            "Requirement already satisfied: pygments<3.0.0,>=2.13.0 in c:\\users\\16023\\anaconda3\\envs\\algotrading\\lib\\site-packages (from rich->keras>=3.0.0->tensorflow-intel==2.16.2->tensorflow) (2.17.2)\n",
            "Requirement already satisfied: mdurl~=0.1 in c:\\users\\16023\\anaconda3\\envs\\algotrading\\lib\\site-packages (from markdown-it-py>=2.2.0->rich->keras>=3.0.0->tensorflow-intel==2.16.2->tensorflow) (0.1.2)\n",
            "Requirement already satisfied: MarkupSafe>=2.1.1 in c:\\users\\16023\\anaconda3\\envs\\algotrading\\lib\\site-packages (from werkzeug>=1.0.1->tensorboard<2.17,>=2.16->tensorflow-intel==2.16.2->tensorflow) (2.1.5)\n"
          ]
        }
      ],
      "source": [
        "# Install necessary packages\n",
        "\n",
        "!pip install yfinance tensorflow keras-tuner PyPortfolioOpt scikit-learn matplotlib seaborn\n"
      ]
    },
    {
      "cell_type": "code",
      "execution_count": 9,
      "metadata": {
        "id": "kBR0wRMJ02no"
      },
      "outputs": [],
      "source": [
        "# 1. Import necessary libraries\n",
        "import pandas as pd\n",
        "import numpy as np\n",
        "import yfinance as yf\n",
        "import matplotlib.pyplot as plt\n",
        "import seaborn as sns\n",
        "from sklearn.cluster import KMeans\n",
        "from tensorflow import keras\n",
        "from keras import layers\n",
        "from keras_tuner import HyperModel, RandomSearch\n",
        "from pypfopt import EfficientFrontier, risk_models, expected_returns\n",
        "import json\n",
        "import re"
      ]
    },
    {
      "cell_type": "code",
      "execution_count": 10,
      "metadata": {},
      "outputs": [],
      "source": [
        "global cleaned_weights"
      ]
    },
    {
      "cell_type": "code",
      "execution_count": 11,
      "metadata": {},
      "outputs": [],
      "source": [
        "# with open('symbols.json', 'r') as f:\n",
        "#    tickers = json.load(f)\n",
        "\n",
        "# pk_filenames.json = [\"data/ibm.pk1\", \"data/aapl.pk1\"]\n",
        "\n",
        "with open('pk_filesnames.json','r') as f:\n",
        "    filenames = json.load(f)\n",
        "\n",
        "# for filename in filenames:\n",
        "#     df = pd.read_pickle(filename)"
      ]
    },
    {
      "cell_type": "code",
      "execution_count": 12,
      "metadata": {
        "id": "xk2-MdQ5tToh"
      },
      "outputs": [],
      "source": [
        "# 2. Data Collection\n",
        "# with open('symbols.json', 'r') as f:\n",
        "#    tickers = json.load(f)\n",
        "\n",
        "# def fetch_data(ticker, start, end):\n",
        "#     data = yf.download(ticker, start=start, end=end)\n",
        "#     return data['Adj Close']\n",
        "\n",
        "# tickers = ['AAPL', 'MSFT', 'GOOGL', 'TSLA', 'NVDA', 'TLT', 'COST', 'WMT', 'BA', 'DIS', 'JPM', 'AMD']\n",
        "all_expected_returns = {}\n",
        "all_data = pd.DataFrame()"
      ]
    },
    {
      "cell_type": "code",
      "execution_count": 16,
      "metadata": {
        "colab": {
          "base_uri": "https://localhost:8080/"
        },
        "id": "_V1tecOg04ub",
        "outputId": "55f5cf11-3b97-459e-ba43-2ce24a9791a6"
      },
      "outputs": [
        {
          "name": "stdout",
          "output_type": "stream",
          "text": [
            "Reloading Tuner from lstm_tuning\\portfolio_optimization_ibm\\tuner0.json\n",
            "\u001b[1m 1/40\u001b[0m \u001b[37m━━━━━━━━━━━━━━━━━━━━\u001b[0m \u001b[1m4s\u001b[0m 123ms/step"
          ]
        },
        {
          "name": "stderr",
          "output_type": "stream",
          "text": [
            "c:\\Users\\16023\\anaconda3\\envs\\algotrading\\lib\\site-packages\\keras\\src\\saving\\saving_lib.py:576: UserWarning: Skipping variable loading for optimizer 'adam', because it has 2 variables whereas the saved optimizer has 12 variables. \n",
            "  saveable.load_own_variables(weights_store.get(inner_path))\n"
          ]
        },
        {
          "name": "stdout",
          "output_type": "stream",
          "text": [
            "\u001b[1m40/40\u001b[0m \u001b[32m━━━━━━━━━━━━━━━━━━━━\u001b[0m\u001b[37m\u001b[0m \u001b[1m0s\u001b[0m 4ms/step\n",
            "Annualized Expected Returns for ibm: 0.17755370909701695\n",
            "Reloading Tuner from lstm_tuning\\portfolio_optimization_aapl\\tuner0.json\n",
            "\u001b[1m 1/40\u001b[0m \u001b[37m━━━━━━━━━━━━━━━━━━━━\u001b[0m \u001b[1m4s\u001b[0m 124ms/step"
          ]
        },
        {
          "name": "stderr",
          "output_type": "stream",
          "text": [
            "c:\\Users\\16023\\anaconda3\\envs\\algotrading\\lib\\site-packages\\keras\\src\\saving\\saving_lib.py:576: UserWarning: Skipping variable loading for optimizer 'adam', because it has 2 variables whereas the saved optimizer has 12 variables. \n",
            "  saveable.load_own_variables(weights_store.get(inner_path))\n"
          ]
        },
        {
          "name": "stdout",
          "output_type": "stream",
          "text": [
            "\u001b[1m40/40\u001b[0m \u001b[32m━━━━━━━━━━━━━━━━━━━━\u001b[0m\u001b[37m\u001b[0m \u001b[1m0s\u001b[0m 4ms/step\n",
            "Annualized Expected Returns for aapl: 0.4091733450699866\n"
          ]
        }
      ],
      "source": [
        "# Loop through each ticker individually\n",
        "# for ticker in tickers:\n",
        "for filename in filenames:\n",
        "    df = pd.read_pickle(filename)\n",
        "    # data = fetch_data(ticker, '2020-01-01', '2023-01-01')\n",
        "    data = df['Adj Close']\n",
        "    ticker = filename.split('/')[1].split('.')[0]\n",
        "\n",
        "    all_data[ticker] = data  # Store data for covariance calculation\n",
        "    # 3. Data Preprocessing\n",
        "    returns = data.pct_change().dropna()\n",
        "\n",
        "    # Reshape data for LSTM in a compatible format\n",
        "    X = returns.values.reshape(-1, 1, 1)\n",
        "\n",
        "    # 4. LSTM Modeling\n",
        "    class LSTMHyperModel(HyperModel):\n",
        "        def build(self, hp):\n",
        "            model = keras.Sequential()\n",
        "            model.add(layers.Input(shape=(1, 1)))\n",
        "            model.add(layers.LSTM(units=hp.Int('units', min_value=32, max_value=128, step=32), activation='relu'))\n",
        "            model.add(layers.Dense(1))\n",
        "            model.compile(optimizer=keras.optimizers.Adam(hp.Choice('learning_rate', [1e-2, 1e-3])), loss='mse')\n",
        "            return model\n",
        "\n",
        "    # Hyperparameter tuning\n",
        "    tuner = RandomSearch(\n",
        "        LSTMHyperModel(),\n",
        "        objective='val_loss',\n",
        "        max_trials=5,\n",
        "        executions_per_trial=3,\n",
        "        directory='lstm_tuning',\n",
        "        project_name=f'portfolio_optimization_{ticker}'\n",
        "    )\n",
        "\n",
        "    # Train the model only for the current ticker\n",
        "    tuner.search(X, returns.values, epochs=10, validation_split=0.2)\n",
        "    best_model = tuner.get_best_models(num_models=1)[0]\n",
        "\n",
        "    # Predict future returns\n",
        "    predicted_returns = best_model.predict(X)\n",
        "\n",
        "    # Aggregate predictions to get expected daily returns for each asset\n",
        "    expected_daily_return = np.mean(predicted_returns)\n",
        "\n",
        "    # Annualize the expected daily return\n",
        "    annualized_return = (1 + expected_daily_return) ** 252 - 1\n",
        "    all_expected_returns[ticker] = annualized_return\n",
        "\n",
        "    # Print annualized expected returns for each ticker\n",
        "    print(f\"Annualized Expected Returns for {ticker}: {annualized_return}\")"
      ]
    },
    {
      "cell_type": "code",
      "execution_count": 14,
      "metadata": {
        "id": "al6N1b8yK2br"
      },
      "outputs": [],
      "source": [
        "# Convert the dictionary to a Pandas Series\n",
        "expected_returns_series = pd.Series(all_expected_returns)"
      ]
    },
    {
      "cell_type": "code",
      "execution_count": 15,
      "metadata": {
        "colab": {
          "base_uri": "https://localhost:8080/"
        },
        "id": "qxSsh0jMI_zG",
        "outputId": "0ab34716-c669-4e36-ccc4-aaeb72feec1a"
      },
      "outputs": [
        {
          "name": "stdout",
          "output_type": "stream",
          "text": [
            "Optimized Portfolio Weights: OrderedDict([('ibm', 0.12534), ('aapl', 0.87466)])\n"
          ]
        }
      ],
      "source": [
        "# Portfolio Optimization\n",
        "# Calculate the covariance matrix using all tickers' data\n",
        "cov_matrix = risk_models.risk_matrix(all_data, method='ledoit_wolf' )\n",
        "# https://pyportfolioopt.readthedocs.io/en/latest/RiskModels.html\n",
        "ef = EfficientFrontier(expected_returns=expected_returns_series, cov_matrix=cov_matrix)\n",
        "weights = ef.max_sharpe()\n",
        "cleaned_weights = ef.clean_weights()\n",
        "\n",
        "# Print the optimized portfolio weights\n",
        "print(\"Optimized Portfolio Weights:\", cleaned_weights)"
      ]
    }
  ],
  "metadata": {
    "colab": {
      "provenance": []
    },
    "kernelspec": {
      "display_name": "Python 3",
      "name": "python3"
    },
    "language_info": {
      "codemirror_mode": {
        "name": "ipython",
        "version": 3
      },
      "file_extension": ".py",
      "mimetype": "text/x-python",
      "name": "python",
      "nbconvert_exporter": "python",
      "pygments_lexer": "ipython3",
      "version": "3.10.14"
    }
  },
  "nbformat": 4,
  "nbformat_minor": 0
}
