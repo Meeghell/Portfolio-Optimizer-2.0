{
 "cells": [
  {
   "cell_type": "code",
   "execution_count": 19,
   "id": "b2f42691-7978-4fac-b67e-80452ba41440",
   "metadata": {},
   "outputs": [
    {
     "name": "stdout",
     "output_type": "stream",
     "text": [
      "['ibm', 'aapl', 'cost']\n"
     ]
    }
   ],
   "source": [
    "import yfinance as yf\n",
    "import json\n",
    "import pandas as pd\n",
    "\n",
    "# Read stock symbols from the file\n",
    "with open('symbols.json', 'r') as f:\n",
    "    symbols = json.load(f)\n"
   ]
  },
  {
   "cell_type": "code",
   "execution_count": 20,
   "id": "f9e13498-ea7f-43bc-a315-7cf257a8b9d7",
   "metadata": {},
   "outputs": [],
   "source": [
    "pk_filenames = []"
   ]
  },
  {
   "cell_type": "code",
   "execution_count": 21,
   "id": "c311adf7-334b-4342-a343-6b7773988ee2",
   "metadata": {},
   "outputs": [
    {
     "name": "stderr",
     "output_type": "stream",
     "text": [
      "[*********************100%%**********************]  1 of 1 completed\n",
      "[*********************100%%**********************]  1 of 1 completed\n",
      "[*********************100%%**********************]  1 of 1 completed\n"
     ]
    }
   ],
   "source": [
    "for symbol in symbols:\n",
    "    data_df = yf.download(symbol, period='5y', interval='1d')\n",
    "    data_df = data_df.dropna()\n",
    "    pickle_name = f'data/{symbol}.pk1'\n",
    "    data_df.to_pickle(pickle_name)\n",
    "    pk_filenames.append(pickle_name)\n",
    "    "
   ]
  },
  {
   "cell_type": "code",
   "execution_count": 26,
   "id": "18aace30-696d-4be1-b403-34513e4bf653",
   "metadata": {},
   "outputs": [],
   "source": [
    "with open('pk_filenames.json','w') as f:\n",
    "    json.dump(pk_filenames,f)"
   ]
  },
  {
   "cell_type": "code",
   "execution_count": null,
   "id": "762a0725-8214-4132-8251-197e506b699f",
   "metadata": {},
   "outputs": [],
   "source": []
  }
 ],
 "metadata": {
  "kernelspec": {
   "display_name": "Python 3 (ipykernel)",
   "language": "python",
   "name": "python3"
  },
  "language_info": {
   "codemirror_mode": {
    "name": "ipython",
    "version": 3
   },
   "file_extension": ".py",
   "mimetype": "text/x-python",
   "name": "python",
   "nbconvert_exporter": "python",
   "pygments_lexer": "ipython3",
   "version": "3.12.4"
  }
 },
 "nbformat": 4,
 "nbformat_minor": 5
}
