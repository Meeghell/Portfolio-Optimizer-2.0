{
 "cells": [
  {
   "cell_type": "code",
   "execution_count": 11,
   "id": "dabd1fd4-e3da-42fc-a33f-32f8d2137e2a",
   "metadata": {},
   "outputs": [],
   "source": [
    "import json\n",
    "import requests\n",
    "import matplotlib.pyplot as plt\n",
    "from collections import Counter"
   ]
  },
  {
   "cell_type": "code",
   "execution_count": 12,
   "id": "e766c44d-9ab0-48cd-93b4-d32c905aba46",
   "metadata": {},
   "outputs": [],
   "source": [
    "# Free alpha vantage key: allows up to 25 requests per day\n",
    "AV_API_KEY = 'VHV6A2A1YNQFVHO1'"
   ]
  },
  {
   "cell_type": "code",
   "execution_count": 13,
   "id": "a0517356-b6ba-423c-9edc-7f4281fad91d",
   "metadata": {},
   "outputs": [],
   "source": [
    "sentiments = {}"
   ]
  },
  {
   "cell_type": "code",
   "execution_count": 14,
   "id": "4dce27d0-1d92-499c-83b8-a7d530231068",
   "metadata": {},
   "outputs": [],
   "source": [
    "# Read symbols file of ticker symbols \n",
    "with open('symbols.json', 'r') as f:\n",
    "    tickers = json.load(f)"
   ]
  },
  {
   "cell_type": "code",
   "execution_count": 15,
   "id": "1d620f13-ac14-4fe8-ad1b-cbbb97277106",
   "metadata": {},
   "outputs": [
    {
     "name": "stdout",
     "output_type": "stream",
     "text": [
      "V\n",
      "V\n",
      "XOM\n",
      "XOM\n",
      "CRYPTO:ETH\n",
      "CRYPTO\n",
      "ETH-USD\n"
     ]
    }
   ],
   "source": [
    "# cycle through each symbol, get sentiment, parse through results to get sentiment \n",
    "# label from that story for the desired symbol\n",
    "# Jill: check r.status_code?\n",
    "for ticker in tickers:\n",
    "    # for crypto need to change ticker to CRYPTO: plus 3-char crypto code\n",
    "    if any([ticker=='ETH-USD', ticker=='BTC-USD', ticker=='SOL-USD']):\n",
    "        ticker = 'CRYPTO:' + ticker[:3]\n",
    "    url = f\"https://www.alphavantage.co/query?function=NEWS_SENTIMENT&tickers={ticker}&apikey={AV_API_KEY}\"\n",
    "    r = requests.get(url)\n",
    "    data = r.json()\n",
    "    sentiment_labels = []\n",
    "\n",
    "    # Loop through each item in the feed\n",
    "    for item in data['feed']:\n",
    "        # Check if the ticker_sentiment list is present\n",
    "        if 'ticker_sentiment' in item:\n",
    "            # Loop through the ticker_sentiment list\n",
    "            for ticker_sentiment in item['ticker_sentiment']:\n",
    "                # Check if the ticker is \"AAPL\"\n",
    "                if ticker_sentiment['ticker'] == ticker:\n",
    "                    # Append the ticker sentiment label to the list\n",
    "                    sentiment_labels.append(ticker_sentiment['ticker_sentiment_label'])\n",
    "                    \n",
    "    # reset Ticker value for sentiments list \n",
    "    if ticker[:6] == 'CRYPTO':\n",
    "        ticker = ticker[-3:] + '-USD'   \n",
    "    #append the ticker and its list of related sentiments to teh sentiments dicionary\n",
    "    sentiments[ticker] = sentiment_labels\n",
    "\n",
    "   "
   ]
  },
  {
   "cell_type": "code",
   "execution_count": null,
   "id": "a5be741c",
   "metadata": {},
   "outputs": [],
   "source": []
  },
  {
   "cell_type": "code",
   "execution_count": 16,
   "id": "73505c3a-c9b2-4d79-819b-d3dfc5df16f6",
   "metadata": {},
   "outputs": [],
   "source": [
    "# store dictionary of stock symbol + list of sentiments into a json file\n",
    "with open('data/sentiments.json', 'w') as sf:\n",
    "    json.dump(sentiments, sf)\n"
   ]
  },
  {
   "cell_type": "code",
   "execution_count": 17,
   "id": "ac2197cd-46b3-4a70-9f1e-8ce489f7ef36",
   "metadata": {},
   "outputs": [],
   "source": [
    "# Next few lines are temporary code to generate pie charts"
   ]
  },
  {
   "cell_type": "code",
   "execution_count": 18,
   "id": "1289d8e2-9b26-46c2-af33-57bd3a287632",
   "metadata": {},
   "outputs": [],
   "source": [
    "# temporary code to generate pie charts \n",
    "# Function to create a pie chart\n",
    "#def create_pie_chart(symbol, sentiment_list):\n",
    "#    sentiment_counts = Counter(sentiment_list)\n",
    "#    labels = sentiment_counts.keys()\n",
    "#    sizes = sentiment_counts.values()\n",
    "#\n",
    "#    plt.figure(figsize=(8, 8))\n",
    "#    plt.pie(sizes, labels=labels, autopct='%1.1f%%', startangle=140)\n",
    "#    plt.title(f'Sentiment Distribution for {symbol}')\n",
    "#    figname = \"images/\" + symbol + \"_sensitivity.png\"\n",
    "#    plt.savefig(figname)\n",
    "#    plt.show()\n",
    "\n",
    "\n",
    "\n",
    "# Generate pie charts for each stock symbol\n",
    "#for symbol, sentiment_list in sentiments.items():\n",
    "#    create_pie_chart(symbol, sentiment_list)\n"
   ]
  },
  {
   "cell_type": "code",
   "execution_count": null,
   "id": "809795b2-e6a9-4c08-908d-b4d6458a7056",
   "metadata": {},
   "outputs": [],
   "source": []
  }
 ],
 "metadata": {
  "kernelspec": {
   "display_name": "Python 3 (ipykernel)",
   "language": "python",
   "name": "python3"
  },
  "language_info": {
   "codemirror_mode": {
    "name": "ipython",
    "version": 3
   },
   "file_extension": ".py",
   "mimetype": "text/x-python",
   "name": "python",
   "nbconvert_exporter": "python",
   "pygments_lexer": "ipython3",
   "version": "3.10.14"
  }
 },
 "nbformat": 4,
 "nbformat_minor": 5
}
