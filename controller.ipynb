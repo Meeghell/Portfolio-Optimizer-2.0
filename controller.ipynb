{
 "cells": [
  {
   "cell_type": "code",
   "execution_count": null,
   "id": "baf0ae3b-f5d3-426c-a5b1-e30a8e2cbd6f",
   "metadata": {},
   "outputs": [],
   "source": [
    "#Control program flow\n",
    "import json\n",
    "import os\n",
    "\n",
    "# Data retrieval\n",
    "%run Data_Retrieval.ipynb\n",
    "\n",
    "# LSTM Neural Network processing\n",
    "%run LSTM_model.ipynb\n",
    "\n",
    "# Sentiment uses an api which only allows 25 calls/day; allow user to turn off if max out\n",
    "if os.path.isfile(\"parms.json\"):\n",
    "    with open('parms.json', 'r') as f:\n",
    "        parms = json.load(f)\n",
    "    if parms[\"sentiment\"]:\n",
    "        # Sentiment processing\n",
    "        %run Sentiment.ipynb\n",
    "\n",
    "# Visualizations\n",
    "%run Visualizations.ipynb\n",
    "\n",
    "\n",
    "    \n",
    "\n",
    "\n",
    "\n",
    "\n"
   ]
  },
  {
   "cell_type": "code",
   "execution_count": null,
   "id": "3a317feb-a15c-486d-8b4c-ba29b2a52d41",
   "metadata": {},
   "outputs": [],
   "source": []
  }
 ],
 "metadata": {
  "kernelspec": {
   "display_name": "Python 3 (ipykernel)",
   "language": "python",
   "name": "python3"
  },
  "language_info": {
   "codemirror_mode": {
    "name": "ipython",
    "version": 3
   },
   "file_extension": ".py",
   "mimetype": "text/x-python",
   "name": "python",
   "nbconvert_exporter": "python",
   "pygments_lexer": "ipython3",
   "version": "3.12.4"
  }
 },
 "nbformat": 4,
 "nbformat_minor": 5
}
